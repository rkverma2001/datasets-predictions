{
 "cells": [
  {
   "cell_type": "markdown",
   "id": "ca9f5abb",
   "metadata": {
    "papermill": {
     "duration": 0.004854,
     "end_time": "2023-05-12T08:35:18.120994",
     "exception": false,
     "start_time": "2023-05-12T08:35:18.116140",
     "status": "completed"
    },
    "tags": []
   },
   "source": [
    "### Decorators"
   ]
  },
  {
   "cell_type": "code",
   "execution_count": 1,
   "id": "f3e97d40",
   "metadata": {
    "execution": {
     "iopub.execute_input": "2023-05-12T08:35:18.132398Z",
     "iopub.status.busy": "2023-05-12T08:35:18.131646Z",
     "iopub.status.idle": "2023-05-12T08:35:18.144899Z",
     "shell.execute_reply": "2023-05-12T08:35:18.144195Z"
    },
    "papermill": {
     "duration": 0.021341,
     "end_time": "2023-05-12T08:35:18.146975",
     "exception": false,
     "start_time": "2023-05-12T08:35:18.125634",
     "status": "completed"
    },
    "tags": []
   },
   "outputs": [],
   "source": [
    "def test():\n",
    "    print(\"This is the start of my function\")\n",
    "    print(4+5)\n",
    "    print(\"This is the end of my function\")"
   ]
  },
  {
   "cell_type": "code",
   "execution_count": 2,
   "id": "a842f90c",
   "metadata": {
    "execution": {
     "iopub.execute_input": "2023-05-12T08:35:18.157299Z",
     "iopub.status.busy": "2023-05-12T08:35:18.156731Z",
     "iopub.status.idle": "2023-05-12T08:35:18.162349Z",
     "shell.execute_reply": "2023-05-12T08:35:18.161209Z"
    },
    "papermill": {
     "duration": 0.013302,
     "end_time": "2023-05-12T08:35:18.164534",
     "exception": false,
     "start_time": "2023-05-12T08:35:18.151232",
     "status": "completed"
    },
    "tags": []
   },
   "outputs": [
    {
     "name": "stdout",
     "output_type": "stream",
     "text": [
      "This is the start of my function\n",
      "9\n",
      "This is the end of my function\n"
     ]
    }
   ],
   "source": [
    "test()"
   ]
  },
  {
   "cell_type": "code",
   "execution_count": 3,
   "id": "4274d4d9",
   "metadata": {
    "execution": {
     "iopub.execute_input": "2023-05-12T08:35:18.176407Z",
     "iopub.status.busy": "2023-05-12T08:35:18.175444Z",
     "iopub.status.idle": "2023-05-12T08:35:18.180219Z",
     "shell.execute_reply": "2023-05-12T08:35:18.179474Z"
    },
    "papermill": {
     "duration": 0.012779,
     "end_time": "2023-05-12T08:35:18.182366",
     "exception": false,
     "start_time": "2023-05-12T08:35:18.169587",
     "status": "completed"
    },
    "tags": []
   },
   "outputs": [],
   "source": [
    "def deco(func):\n",
    "    def inner_deco():\n",
    "        print(\"This is the start of my fun\")\n",
    "        func()\n",
    "        print(\"This is the end of my fun\")\n",
    "    return inner_deco"
   ]
  },
  {
   "cell_type": "code",
   "execution_count": 4,
   "id": "a9edd72b",
   "metadata": {
    "execution": {
     "iopub.execute_input": "2023-05-12T08:35:18.193165Z",
     "iopub.status.busy": "2023-05-12T08:35:18.192816Z",
     "iopub.status.idle": "2023-05-12T08:35:18.197549Z",
     "shell.execute_reply": "2023-05-12T08:35:18.196509Z"
    },
    "papermill": {
     "duration": 0.012799,
     "end_time": "2023-05-12T08:35:18.199712",
     "exception": false,
     "start_time": "2023-05-12T08:35:18.186913",
     "status": "completed"
    },
    "tags": []
   },
   "outputs": [],
   "source": [
    "@deco\n",
    "def test1():\n",
    "    print(4+5)"
   ]
  },
  {
   "cell_type": "code",
   "execution_count": 5,
   "id": "2c2ca439",
   "metadata": {
    "execution": {
     "iopub.execute_input": "2023-05-12T08:35:18.210633Z",
     "iopub.status.busy": "2023-05-12T08:35:18.209990Z",
     "iopub.status.idle": "2023-05-12T08:35:18.215209Z",
     "shell.execute_reply": "2023-05-12T08:35:18.213913Z"
    },
    "papermill": {
     "duration": 0.013247,
     "end_time": "2023-05-12T08:35:18.217498",
     "exception": false,
     "start_time": "2023-05-12T08:35:18.204251",
     "status": "completed"
    },
    "tags": []
   },
   "outputs": [
    {
     "name": "stdout",
     "output_type": "stream",
     "text": [
      "This is the start of my fun\n",
      "9\n",
      "This is the end of my fun\n"
     ]
    }
   ],
   "source": [
    "test1()"
   ]
  },
  {
   "cell_type": "code",
   "execution_count": 6,
   "id": "a893f145",
   "metadata": {
    "execution": {
     "iopub.execute_input": "2023-05-12T08:35:18.228498Z",
     "iopub.status.busy": "2023-05-12T08:35:18.228135Z",
     "iopub.status.idle": "2023-05-12T08:35:18.233374Z",
     "shell.execute_reply": "2023-05-12T08:35:18.232383Z"
    },
    "papermill": {
     "duration": 0.013289,
     "end_time": "2023-05-12T08:35:18.235641",
     "exception": false,
     "start_time": "2023-05-12T08:35:18.222352",
     "status": "completed"
    },
    "tags": []
   },
   "outputs": [],
   "source": [
    "import time\n",
    "def timer_test(func):\n",
    "    def timer_test_inner():\n",
    "        start = time.time()\n",
    "        func()\n",
    "        end = time.time()\n",
    "        print(end - start)\n",
    "    return timer_test_inner"
   ]
  },
  {
   "cell_type": "code",
   "execution_count": 7,
   "id": "3eb9b4a2",
   "metadata": {
    "execution": {
     "iopub.execute_input": "2023-05-12T08:35:18.246823Z",
     "iopub.status.busy": "2023-05-12T08:35:18.245890Z",
     "iopub.status.idle": "2023-05-12T08:35:18.250363Z",
     "shell.execute_reply": "2023-05-12T08:35:18.249598Z"
    },
    "papermill": {
     "duration": 0.012253,
     "end_time": "2023-05-12T08:35:18.252420",
     "exception": false,
     "start_time": "2023-05-12T08:35:18.240167",
     "status": "completed"
    },
    "tags": []
   },
   "outputs": [],
   "source": [
    "@timer_test\n",
    "def test2():\n",
    "    print(45 + 67)"
   ]
  },
  {
   "cell_type": "code",
   "execution_count": 8,
   "id": "d746cd58",
   "metadata": {
    "execution": {
     "iopub.execute_input": "2023-05-12T08:35:18.263387Z",
     "iopub.status.busy": "2023-05-12T08:35:18.262703Z",
     "iopub.status.idle": "2023-05-12T08:35:18.268224Z",
     "shell.execute_reply": "2023-05-12T08:35:18.266883Z"
    },
    "papermill": {
     "duration": 0.013516,
     "end_time": "2023-05-12T08:35:18.270550",
     "exception": false,
     "start_time": "2023-05-12T08:35:18.257034",
     "status": "completed"
    },
    "tags": []
   },
   "outputs": [
    {
     "name": "stdout",
     "output_type": "stream",
     "text": [
      "112\n",
      "0.00021314620971679688\n"
     ]
    }
   ],
   "source": [
    "test2()"
   ]
  },
  {
   "cell_type": "code",
   "execution_count": 9,
   "id": "24290895",
   "metadata": {
    "execution": {
     "iopub.execute_input": "2023-05-12T08:35:18.282010Z",
     "iopub.status.busy": "2023-05-12T08:35:18.281659Z",
     "iopub.status.idle": "2023-05-12T08:35:18.286255Z",
     "shell.execute_reply": "2023-05-12T08:35:18.285330Z"
    },
    "papermill": {
     "duration": 0.013042,
     "end_time": "2023-05-12T08:35:18.288414",
     "exception": false,
     "start_time": "2023-05-12T08:35:18.275372",
     "status": "completed"
    },
    "tags": []
   },
   "outputs": [],
   "source": [
    "@timer_test\n",
    "def test3():\n",
    "    for i in range(100000):\n",
    "        pass"
   ]
  },
  {
   "cell_type": "code",
   "execution_count": 10,
   "id": "b1547153",
   "metadata": {
    "execution": {
     "iopub.execute_input": "2023-05-12T08:35:18.299832Z",
     "iopub.status.busy": "2023-05-12T08:35:18.299166Z",
     "iopub.status.idle": "2023-05-12T08:35:18.306975Z",
     "shell.execute_reply": "2023-05-12T08:35:18.305669Z"
    },
    "papermill": {
     "duration": 0.016079,
     "end_time": "2023-05-12T08:35:18.309181",
     "exception": false,
     "start_time": "2023-05-12T08:35:18.293102",
     "status": "completed"
    },
    "tags": []
   },
   "outputs": [
    {
     "name": "stdout",
     "output_type": "stream",
     "text": [
      "0.0024836063385009766\n"
     ]
    }
   ],
   "source": [
    "test3()"
   ]
  },
  {
   "cell_type": "code",
   "execution_count": null,
   "id": "006ebf0e",
   "metadata": {
    "papermill": {
     "duration": 0.004716,
     "end_time": "2023-05-12T08:35:18.318936",
     "exception": false,
     "start_time": "2023-05-12T08:35:18.314220",
     "status": "completed"
    },
    "tags": []
   },
   "outputs": [],
   "source": []
  }
 ],
 "metadata": {
  "kernelspec": {
   "display_name": "Python 3",
   "language": "python",
   "name": "python3"
  },
  "language_info": {
   "codemirror_mode": {
    "name": "ipython",
    "version": 3
   },
   "file_extension": ".py",
   "mimetype": "text/x-python",
   "name": "python",
   "nbconvert_exporter": "python",
   "pygments_lexer": "ipython3",
   "version": "3.10.10"
  },
  "papermill": {
   "default_parameters": {},
   "duration": 12.661998,
   "end_time": "2023-05-12T08:35:19.145346",
   "environment_variables": {},
   "exception": null,
   "input_path": "__notebook__.ipynb",
   "output_path": "__notebook__.ipynb",
   "parameters": {},
   "start_time": "2023-05-12T08:35:06.483348",
   "version": "2.4.0"
  }
 },
 "nbformat": 4,
 "nbformat_minor": 5
}
